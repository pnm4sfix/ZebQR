{
 "cells": [
  {
   "cell_type": "code",
   "execution_count": 1,
   "metadata": {},
   "outputs": [],
   "source": [
    "import qrcode\n",
    "import os"
   ]
  },
  {
   "cell_type": "code",
   "execution_count": 5,
   "metadata": {},
   "outputs": [],
   "source": [
    "\"\"\"Create image folder\"\"\"\n",
    "image_folder = \"./QRCodes\"\n",
    "if not os.path.exists(image_folder):\n",
    "    os.makedirs(image_folder)"
   ]
  },
  {
   "cell_type": "code",
   "execution_count": 2,
   "metadata": {},
   "outputs": [
    {
     "name": "stdin",
     "output_type": "stream",
     "text": [
      "Whats the shoal ID? 1\n",
      "Number of fish? 50\n",
      "Date of hatching? 10/20/2020\n",
      "What genetic strain are they? WT\n"
     ]
    }
   ],
   "source": [
    "\"\"\"Get user input\"\"\"\n",
    "id = input(\"Whats the shoal ID?\")\n",
    "total_fish = input(\"Number of fish?\")\n",
    "date_of_hatching = input(\"Date of hatching?\")\n",
    "strain = input(\"What genetic strain are they?\")"
   ]
  },
  {
   "cell_type": "code",
   "execution_count": 3,
   "metadata": {},
   "outputs": [],
   "source": [
    "\"\"\"Make qr code\"\"\"\n",
    "img = qrcode.make({\"id\":id, \"total_fish\":total_fish, \"DOB\":date_of_hatching, \"strain\":strain})"
   ]
  },
  {
   "cell_type": "code",
   "execution_count": 6,
   "metadata": {},
   "outputs": [],
   "source": [
    "\"\"\"Save qr code in folder called the ID\"\"\"\n",
    "path = \"./QRCodes//\"+str(id)\n",
    "if not os.path.exists(path):\n",
    "    os.makedirs(path)"
   ]
  },
  {
   "cell_type": "code",
   "execution_count": 11,
   "metadata": {},
   "outputs": [],
   "source": [
    "img.save(os.path.join(path, str(id)+\".png\"))"
   ]
  }
 ],
 "metadata": {
  "kernelspec": {
   "display_name": "Python 3",
   "language": "python",
   "name": "python3"
  },
  "language_info": {
   "codemirror_mode": {
    "name": "ipython",
    "version": 3
   },
   "file_extension": ".py",
   "mimetype": "text/x-python",
   "name": "python",
   "nbconvert_exporter": "python",
   "pygments_lexer": "ipython3",
   "version": "3.7.7"
  }
 },
 "nbformat": 4,
 "nbformat_minor": 4
}
